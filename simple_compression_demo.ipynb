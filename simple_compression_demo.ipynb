{
  "cells": [
    {
      "cell_type": "code",
      "execution_count": null,
      "metadata": {},
      "outputs": [],
      "source": [
        "# 必要なライブラリのインストールとインポート\n",
        "!pip install compressai\n",
        "\n",
        "import torch\n",
        "import matplotlib.pyplot as plt\n",
        "from compressai.zoo import mbt2018\n",
        "\n",
        "print(\"✅ セットアップ完了！\")\n"
      ]
    },
    {
      "cell_type": "code",
      "execution_count": null,
      "metadata": {},
      "outputs": [],
      "source": [
        "# 訓練済みモデルの読み込み\n",
        "device = \"cuda\" if torch.cuda.is_available() else \"cpu\"\n",
        "model = mbt2018(quality=3, pretrained=True, progress=True)\n",
        "model = model.to(device)\n",
        "model.eval()\n",
        "\n",
        "print(f\"✅ 訓練済みモデル読み込み完了 (デバイス: {device})\")\n"
      ]
    },
    {
      "cell_type": "code",
      "execution_count": null,
      "metadata": {},
      "outputs": [],
      "source": [
        "# シンプルなテスト画像を作成\n",
        "test_image = torch.zeros(1, 3, 256, 256).to(device)\n",
        "test_image[0, 0, :128, :128] = 1.0  # 左上: 赤\n",
        "test_image[0, 1, :128, 128:] = 1.0  # 右上: 緑\n",
        "test_image[0, 2, 128:, :128] = 1.0  # 左下: 青\n",
        "test_image[0, :, 128:, 128:] = 0.5  # 右下: グレー\n",
        "\n",
        "print(\"✅ テスト画像作成完了\")\n"
      ]
    },
    {
      "cell_type": "code",
      "execution_count": null,
      "metadata": {},
      "outputs": [],
      "source": [
        "# 画像圧縮・展開の実行\n",
        "with torch.no_grad():\n",
        "    # 圧縮\n",
        "    compressed = model.compress(test_image)\n",
        "    # 展開\n",
        "    decompressed = model.decompress(compressed[\"strings\"], compressed[\"shape\"])\n",
        "    reconstructed = decompressed[\"x_hat\"]\n",
        "\n",
        "print(\"✅ 圧縮・展開完了\")\n"
      ]
    },
    {
      "cell_type": "code",
      "execution_count": null,
      "metadata": {},
      "outputs": [],
      "source": [
        "# 🎯 最終結果の表示\n",
        "fig, axes = plt.subplots(1, 2, figsize=(12, 5))\n",
        "\n",
        "# 元画像\n",
        "original_img = test_image[0].cpu().permute(1, 2, 0).clamp(0, 1)\n",
        "axes[0].imshow(original_img)\n",
        "axes[0].set_title('元画像', fontsize=16, fontweight='bold')\n",
        "axes[0].axis('off')\n",
        "\n",
        "# 圧縮・復元後の画像\n",
        "reconstructed_img = reconstructed[0].cpu().permute(1, 2, 0).clamp(0, 1)\n",
        "axes[1].imshow(reconstructed_img)\n",
        "axes[1].set_title('圧縮・復元後', fontsize=16, fontweight='bold')\n",
        "axes[1].axis('off')\n",
        "\n",
        "plt.tight_layout()\n",
        "plt.show()\n",
        "\n",
        "# 圧縮効果の数値\n",
        "original_size = test_image.numel() * 8  # bits\n",
        "compressed_size = len(compressed['strings'][0]) * 8  # bits\n",
        "compression_ratio = original_size / compressed_size\n",
        "mse = torch.mean((test_image - reconstructed) ** 2).item()\n",
        "psnr = -10 * torch.log10(torch.tensor(mse))\n",
        "\n",
        "print(\"\\n🎯 === 最終結果 ===\")\n",
        "print(f\"📊 圧縮率: {compression_ratio:.1f}倍\")\n",
        "print(f\"📈 PSNR: {psnr:.1f} dB\")\n",
        "print(f\"💾 元サイズ: {original_size//8:,} bytes\")\n",
        "print(f\"🗜️ 圧縮後: {len(compressed['strings'][0]):,} bytes\")\n",
        "print(\"\\n✨ 学習ベース画像圧縮の成功！\")\n"
      ]
    }
  ],
  "metadata": {
    "language_info": {
      "name": "python"
    }
  },
  "nbformat": 4,
  "nbformat_minor": 2
}
